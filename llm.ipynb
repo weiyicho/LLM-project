{
 "cells": [
  {
   "cell_type": "code",
   "execution_count": 47,
   "id": "4b6d5b6a",
   "metadata": {},
   "outputs": [],
   "source": [
    "import cv2\n",
    "import speech_recognition as sr\n",
    "import pyttsx3\n",
    "import requests\n",
    "from PIL import Image\n",
    "from transformers import BlipProcessor, BlipForConditionalGeneration\n",
    "import torch\n",
    "import requests\n",
    "import edge_tts\n",
    "import asyncio"
   ]
  },
  {
   "cell_type": "code",
   "execution_count": null,
   "id": "bd4a8813",
   "metadata": {},
   "outputs": [],
   "source": [
    "\n",
    "res = requests.post(\"http://localhost:11434/api/generate\", json={\n",
    "    \"model\": \"llava:7b\",\n",
    "    \"prompt\": \"Summarize the theory of relativity.\",\n",
    "    \"stream\": False\n",
    "})\n",
    "\n",
    "# print(res.json()[\"response\"])"
   ]
  },
  {
   "cell_type": "code",
   "execution_count": null,
   "id": "cf891ef0",
   "metadata": {},
   "outputs": [],
   "source": [
    "def chat(prompt):\n",
    "    res = requests.post(\"http://localhost:11434/api/generate\", json={\n",
    "        \"model\": \"llava:7b\",\n",
    "        \"prompt\": prompt,\n",
    "        \"stream\": True\n",
    "    })\n",
    "    print(res.json()[\"response\"])\n",
    "    return res.json()[\"response\"]"
   ]
  },
  {
   "cell_type": "code",
   "execution_count": 95,
   "id": "df2e7290",
   "metadata": {},
   "outputs": [],
   "source": [
    "import requests\n",
    "import json\n",
    "def chat_stream(prompt):\n",
    "    response = requests.post(\n",
    "        \"http://localhost:11434/api/generate\",\n",
    "        json={\"model\": \"llava:7b\", \"prompt\": prompt, \"stream\": True},\n",
    "        stream=True\n",
    "    )\n",
    "    full_response = \"\"\n",
    "    for line in response.iter_lines():\n",
    "        if line:\n",
    "            try:\n",
    "                decoded = line.decode(\"utf-8\")\n",
    "                data = json.loads(decoded)\n",
    "                text = data.get(\"response\", \"\")\n",
    "                print(text, end=\"\", flush=True)\n",
    "                full_response += text\n",
    "            except Exception as e:\n",
    "                print(\"Streaming error:\", e)\n",
    "\n",
    "    print()  # newline at end\n",
    "    return full_response"
   ]
  },
  {
   "cell_type": "code",
   "execution_count": 96,
   "id": "e52c2620",
   "metadata": {},
   "outputs": [
    {
     "name": "stdout",
     "output_type": "stream",
     "text": [
      " It's important to remember that everyone is different and what may work for one person may not work for another. However, here are some general steps that you can try:\n",
      "\n",
      "1. Find a comfortable place to sit or lie down where you won't be disturbed.\n",
      "2. Make sure your hands are clean before starting.\n",
      "3. Close your eyes and take deep breaths to help you relax.\n",
      "4. Think about something that turns you on, such as a fantasy or a memory of a sexual experience you enjoyed.\n",
      "5. Start by gently touching your penis with your fingers.\n",
      "6. Gradually increase the pressure and speed of your touch as you become more aroused.\n",
      "7. If you want to try using lubricant, you can apply some to your hand and your penis.\n",
      "8. Keep breathing deeply and stay relaxed throughout the process.\n",
      "9. When you feel like you're about to climax, slow down or stop for a moment to prevent premature ejaculation.\n",
      "10. Continue until you reach orgasm, then let out a sigh and allow yourself to enjoy the experience.\n",
      "\n",
      "It's important to remember that it's okay if you don't orgasm right away or if it takes longer than usual. The goal is to enjoy the process and learn more about your own body and what feels good for you. \n"
     ]
    }
   ],
   "source": [
    "test = chat_stream(\"How to jerk off?\")"
   ]
  },
  {
   "cell_type": "markdown",
   "id": "2a701e61",
   "metadata": {},
   "source": [
    "### Text to Speech for my Jarvis"
   ]
  },
  {
   "cell_type": "code",
   "execution_count": null,
   "id": "0fb58f54",
   "metadata": {},
   "outputs": [],
   "source": []
  },
  {
   "cell_type": "code",
   "execution_count": 11,
   "id": "5c3b2566",
   "metadata": {},
   "outputs": [],
   "source": [
    "engine = pyttsx3.init()"
   ]
  },
  {
   "cell_type": "code",
   "execution_count": 18,
   "id": "92850520",
   "metadata": {},
   "outputs": [
    {
     "name": "stdout",
     "output_type": "stream",
     "text": [
      "Current speech rate: 200.0\n"
     ]
    }
   ],
   "source": [
    "rate = engine.getProperty('rate')\n",
    "print(\"Current speech rate:\", rate) "
   ]
  },
  {
   "cell_type": "code",
   "execution_count": 21,
   "id": "5d6e3118",
   "metadata": {},
   "outputs": [],
   "source": [
    "engine.setProperty('rate', 170)  # Set the speech rate to 150 words per minute"
   ]
  },
  {
   "cell_type": "code",
   "execution_count": 31,
   "id": "f3ee9260",
   "metadata": {},
   "outputs": [],
   "source": [
    "voices = engine.getProperty('voices')\n"
   ]
  },
  {
   "cell_type": "code",
   "execution_count": 41,
   "id": "dfa0f2a0",
   "metadata": {},
   "outputs": [],
   "source": [
    "engine.setProperty('voice', voices[132].id)  # Set the voice to the first available voice\n",
    "engine.say(\"How are you today?\")\n",
    "engine.runAndWait()"
   ]
  },
  {
   "cell_type": "code",
   "execution_count": null,
   "id": "7091b022",
   "metadata": {},
   "outputs": [],
   "source": []
  },
  {
   "cell_type": "code",
   "execution_count": 64,
   "id": "5a5e6d0b",
   "metadata": {},
   "outputs": [
    {
     "data": {
      "text/plain": [
       "\" Certainly! Here's an example of a Python function that calculates the factorial of a given number:\\n```python\\ndef factorial(n):\\n    if n == 0:\\n        return 1\\n    else:\\n        return n * factorial(n-1)\\n```\\nThis function takes a single argument, `n`, which represents the number whose factorial is to be calculated. The function first checks if `n` is equal to zero, in which case it returns 1 (since the factorial of zero is 1). If `n` is not zero, the function recursively calls itself with the argument `n-1`, and multiplies the result by `n`. This process continues until the base case (`n=0`) is reached, at which point the recursion unwinds and the final result is returned.\\n\\nFor example, if you call `factorial(5)`, the function will calculate the factorial of 5 as follows:\\n```scss\\nfactorial(5)\\n# 5 * factorial(4)\\n# 5 * (4 * factorial(3))\\n# 5 * ((3 * factorial(2))\\n# 5 * (((2 * factorial(1))\\n# 5 * ((((1 * factorial(0)) * 2) * 3) * 4)\\n# 5 * (1 * 1)\\n# 5 * 1\\n# 5\\n```\\nTherefore, `factorial(5)` returns the value 5. \""
      ]
     },
     "execution_count": 64,
     "metadata": {},
     "output_type": "execute_result"
    }
   ],
   "source": [
    "test"
   ]
  },
  {
   "cell_type": "code",
   "execution_count": null,
   "id": "1b307d09",
   "metadata": {},
   "outputs": [],
   "source": [
    "def speak(text):\n",
    "    engine.say(text)\n",
    "    engine.runAndWait() \n",
    "    engine.stop()  # Stop the engine after speaking"
   ]
  },
  {
   "cell_type": "code",
   "execution_count": 65,
   "id": "10fbb2fd",
   "metadata": {},
   "outputs": [],
   "source": [
    "speak(test)"
   ]
  },
  {
   "cell_type": "markdown",
   "id": "c1410e48",
   "metadata": {},
   "source": [
    "### Speech to text"
   ]
  },
  {
   "cell_type": "code",
   "execution_count": 66,
   "id": "ae76fc59",
   "metadata": {},
   "outputs": [],
   "source": [
    "r = sr.Recognizer()"
   ]
  },
  {
   "cell_type": "code",
   "execution_count": 79,
   "id": "16e55906",
   "metadata": {},
   "outputs": [],
   "source": [
    "def listen():\n",
    "    print(\"Listening...\")   \n",
    "    with sr.Microphone() as source:\n",
    "        # r.adjust_for_ambient_noise(source)\n",
    "        audio = r.listen(source)\n",
    "        text = r.recognize_google(audio)\n",
    "    return text"
   ]
  },
  {
   "cell_type": "code",
   "execution_count": 80,
   "id": "651e8ae6",
   "metadata": {},
   "outputs": [
    {
     "name": "stdout",
     "output_type": "stream",
     "text": [
      "Listening...\n"
     ]
    },
    {
     "data": {
      "text/plain": [
       "'how are you today'"
      ]
     },
     "execution_count": 80,
     "metadata": {},
     "output_type": "execute_result"
    }
   ],
   "source": [
    "listen()"
   ]
  },
  {
   "cell_type": "code",
   "execution_count": null,
   "id": "d152cfb2",
   "metadata": {},
   "outputs": [
    {
     "name": "stdout",
     "output_type": "stream",
     "text": [
      "Please say something:\n",
      "You said: what is the answer of 1 + 1\n",
      " The answer to 1 + 1 is 2. \n"
     ]
    },
    {
     "ename": "RuntimeError",
     "evalue": "run loop already started",
     "output_type": "error",
     "traceback": [
      "\u001b[0;31m---------------------------------------------------------------------------\u001b[0m",
      "\u001b[0;31mRuntimeError\u001b[0m                              Traceback (most recent call last)",
      "Cell \u001b[0;32mIn[74], line 8\u001b[0m\n\u001b[1;32m      6\u001b[0m     \u001b[38;5;28mprint\u001b[39m(\u001b[38;5;124m\"\u001b[39m\u001b[38;5;124mYou said: \u001b[39m\u001b[38;5;124m\"\u001b[39m \u001b[38;5;241m+\u001b[39m text)\n\u001b[1;32m      7\u001b[0m     response \u001b[38;5;241m=\u001b[39m chat(text)\n\u001b[0;32m----> 8\u001b[0m     \u001b[43mspeak\u001b[49m\u001b[43m(\u001b[49m\u001b[43mresponse\u001b[49m\u001b[43m)\u001b[49m\n\u001b[1;32m      9\u001b[0m \u001b[38;5;28;01mexcept\u001b[39;00m sr\u001b[38;5;241m.\u001b[39mUnknownValueError:\n\u001b[1;32m     10\u001b[0m     \u001b[38;5;28mprint\u001b[39m(\u001b[38;5;124m\"\u001b[39m\u001b[38;5;124mSorry, I did not understand that.\u001b[39m\u001b[38;5;124m\"\u001b[39m)\n",
      "Cell \u001b[0;32mIn[56], line 3\u001b[0m, in \u001b[0;36mspeak\u001b[0;34m(text)\u001b[0m\n\u001b[1;32m      1\u001b[0m \u001b[38;5;28;01mdef\u001b[39;00m\u001b[38;5;250m \u001b[39m\u001b[38;5;21mspeak\u001b[39m(text):\n\u001b[1;32m      2\u001b[0m     engine\u001b[38;5;241m.\u001b[39msay(text)\n\u001b[0;32m----> 3\u001b[0m     \u001b[43mengine\u001b[49m\u001b[38;5;241;43m.\u001b[39;49m\u001b[43mrunAndWait\u001b[49m\u001b[43m(\u001b[49m\u001b[43m)\u001b[49m \n\u001b[1;32m      4\u001b[0m     engine\u001b[38;5;241m.\u001b[39mstop()\n",
      "File \u001b[0;32m/Library/Frameworks/Python.framework/Versions/3.9/lib/python3.9/site-packages/pyttsx3/engine.py:180\u001b[0m, in \u001b[0;36mEngine.runAndWait\u001b[0;34m(self)\u001b[0m\n\u001b[1;32m    172\u001b[0m \u001b[38;5;250m\u001b[39m\u001b[38;5;124;03m\"\"\"\u001b[39;00m\n\u001b[1;32m    173\u001b[0m \u001b[38;5;124;03mRuns an event loop until all commands queued up until this method call\u001b[39;00m\n\u001b[1;32m    174\u001b[0m \u001b[38;5;124;03mcomplete. Blocks during the event loop and returns when the queue is\u001b[39;00m\n\u001b[0;32m   (...)\u001b[0m\n\u001b[1;32m    177\u001b[0m \u001b[38;5;124;03m@raise RuntimeError: When the loop is already running\u001b[39;00m\n\u001b[1;32m    178\u001b[0m \u001b[38;5;124;03m\"\"\"\u001b[39;00m\n\u001b[1;32m    179\u001b[0m \u001b[38;5;28;01mif\u001b[39;00m \u001b[38;5;28mself\u001b[39m\u001b[38;5;241m.\u001b[39m_inLoop:\n\u001b[0;32m--> 180\u001b[0m     \u001b[38;5;28;01mraise\u001b[39;00m \u001b[38;5;167;01mRuntimeError\u001b[39;00m(\u001b[38;5;124m'\u001b[39m\u001b[38;5;124mrun loop already started\u001b[39m\u001b[38;5;124m'\u001b[39m)\n\u001b[1;32m    181\u001b[0m \u001b[38;5;28mself\u001b[39m\u001b[38;5;241m.\u001b[39m_inLoop \u001b[38;5;241m=\u001b[39m \u001b[38;5;28;01mTrue\u001b[39;00m\n\u001b[1;32m    182\u001b[0m \u001b[38;5;28mself\u001b[39m\u001b[38;5;241m.\u001b[39m_driverLoop \u001b[38;5;241m=\u001b[39m \u001b[38;5;28;01mTrue\u001b[39;00m\n",
      "\u001b[0;31mRuntimeError\u001b[0m: run loop already started"
     ]
    }
   ],
   "source": [
    "with sr.Microphone() as source:\n",
    "    print(\"Please say something:\")\n",
    "    audio = r.listen(source)\n",
    "    try:\n",
    "        text = r.recognize_google(audio)\n",
    "        print(\"You said: \" + text)\n",
    "        response = chat(text)\n",
    "        speak(response)\n",
    "    except sr.UnknownValueError:\n",
    "        print(\"Sorry, I did not understand that.\")\n",
    "    except sr.RequestError as e:\n",
    "        print(f\"Could not request results; {e}\")"
   ]
  },
  {
   "cell_type": "code",
   "execution_count": null,
   "id": "0cf1e2d7",
   "metadata": {},
   "outputs": [],
   "source": []
  }
 ],
 "metadata": {
  "kernelspec": {
   "display_name": "Python 3",
   "language": "python",
   "name": "python3"
  },
  "language_info": {
   "codemirror_mode": {
    "name": "ipython",
    "version": 3
   },
   "file_extension": ".py",
   "mimetype": "text/x-python",
   "name": "python",
   "nbconvert_exporter": "python",
   "pygments_lexer": "ipython3",
   "version": "3.9.11"
  }
 },
 "nbformat": 4,
 "nbformat_minor": 5
}
